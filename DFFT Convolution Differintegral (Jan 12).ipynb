{
 "cells": [
  {
   "cell_type": "code",
   "execution_count": 1,
   "metadata": {
    "collapsed": true
   },
   "outputs": [],
   "source": [
    "import numpy as np\n",
    "import math\n",
    "from decimal import *\n",
    "import time"
   ]
  },
  {
   "cell_type": "code",
   "execution_count": 16,
   "metadata": {},
   "outputs": [
    {
     "name": "stdout",
     "output_type": "stream",
     "text": [
      "4.11555563085e-05\n",
      "4.64390723487e-05\n",
      "0.001000881195068 seconds\n"
     ]
    }
   ],
   "source": [
    "N = 128\n",
    "x = np.linspace(0.,1.,N)\n",
    "stepsize = x[1] - x[0]\n",
    "alpha = 0.5\n",
    "\n",
    "def f(x):\n",
    "    \"\"\" Test square root function for DFFT convolution. \"\"\"\n",
    "    return np.sqrt(x)\n",
    "\n",
    "def isInteger(n):\n",
    "    \"\"\"Return True if argument is a whole number, False if argument has a fractional part.\n",
    "\n",
    "    Note that for values very close to an integer, this test breaks. During\n",
    "    superficial testing the closest value to zero that evaluated correctly\n",
    "    was 9.88131291682e-324. When dividing this number by 10, Python 2.7.1 evaluated\n",
    "    the result to zero\"\"\"\n",
    "\n",
    "    if n%2 == 0 or (n+1)%2 == 0:\n",
    "        return True\n",
    "    return False\n",
    "\n",
    "def poch(a,n):\n",
    "    # Returns the Pochhammer symbol (a)_n.\n",
    "    \n",
    "    # First, check if 'a' is a real number (this is currently only working for reals).\n",
    "    if np.iscomplex(a):\n",
    "        raise ValueError('Value \"a\" must be a real number.')\n",
    "    elif n < 0:\n",
    "        raise ValueError('Value \"n\" must be a positive integer.')\n",
    "    elif isInteger(n) == False:\n",
    "        raise ValueError('Value \"n\" must be an integer.')\n",
    "    \n",
    "    # Compute the Pochhammer symbol.\n",
    "    if n == 0:\n",
    "        poch = 1\n",
    "        return poch\n",
    "    else:\n",
    "        poch = 1\n",
    "        for j in range(n):\n",
    "            poch *= (a + j)\n",
    "        return poch\n",
    "\n",
    "def GLcoeffs(alpha,n):\n",
    "    # Computes the coefficient array of size n.\n",
    "    if n < 0:\n",
    "        raise ValueError('Value \"n\" must be positive.')\n",
    "    elif isInteger(n) == False:\n",
    "        raise ValueError('Value \"n\" must be an integer.')\n",
    "        \n",
    "    else:\n",
    "        #GL_filter = np.zeros(n,)\n",
    "        GL_filter = [poch(-alpha,j)/np.math.factorial(j) for j in range(n)]\n",
    "        #for j in range(n):\n",
    "        #    GL_filter[j] = poch(-alpha,j)/np.math.factorial(j)\n",
    "            #print(GL_filter[j])\n",
    "    return GL_filter\n",
    "\n",
    "F = f(x)\n",
    "DD = GLcoeffs(alpha,N)\n",
    "\n",
    "start = time.time()\n",
    "FF = np.fft.rfft(F)\n",
    "DDFF = np.fft.rfft(DD)\n",
    "\n",
    "result = stepsize**(-alpha)*np.fft.irfft(FF*DDFF)\n",
    "elapsed = time.time() - start\n",
    "\n",
    "experiment = result[len(result)-1]\n",
    "truth = np.sqrt(np.pi)/2\n",
    "\n",
    "abserror = abs(experiment - truth)\n",
    "relerror = abs((experiment-truth)/truth)\n",
    "print(abserror)\n",
    "print(relerror)\n",
    "print(\"{0:.15f}\".format(elapsed) + ' seconds')"
   ]
  },
  {
   "cell_type": "markdown",
   "metadata": {},
   "source": [
    "It looks like this is the way to do it. It's extremely fast and just as accurate as the brute force method. Plus, this code computes the GL differintegral on the entire domain of differintegration. PROBLEM: for large $N$, this code has integer overflow in the Pochhammer symbol function. The factorial function also can't handle large integer values. I may have to take the logarithm to reduce the size of the binomial coefficients and then exponentiate the sum of logs.\n",
    "\n",
    "I still need to compare this to the matrix multiplication method (vector multiplication is not very accurate)."
   ]
  },
  {
   "cell_type": "code",
   "execution_count": null,
   "metadata": {
    "collapsed": true
   },
   "outputs": [],
   "source": []
  }
 ],
 "metadata": {
  "kernelspec": {
   "display_name": "Python 3",
   "language": "python",
   "name": "python3"
  },
  "language_info": {
   "codemirror_mode": {
    "name": "ipython",
    "version": 3
   },
   "file_extension": ".py",
   "mimetype": "text/x-python",
   "name": "python",
   "nbconvert_exporter": "python",
   "pygments_lexer": "ipython3",
   "version": "3.6.1"
  }
 },
 "nbformat": 4,
 "nbformat_minor": 2
}
